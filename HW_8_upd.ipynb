{
 "cells": [
  {
   "cell_type": "markdown",
   "metadata": {
    "id": "_kX74ytuOfgy"
   },
   "source": [
    "# Домашнее задание \"Случайные величины и вероятности\"."
   ]
  },
  {
   "cell_type": "markdown",
   "metadata": {
    "id": "t69IZulqTZMz"
   },
   "source": [
    "## Уровень 0:\n"
   ]
  },
  {
   "cell_type": "markdown",
   "metadata": {
    "id": "9JUikPzroAL8"
   },
   "source": [
    "### Задание 1"
   ]
  },
  {
   "cell_type": "markdown",
   "metadata": {
    "id": "-iPjA-eBHwGP"
   },
   "source": [
    "В магазин привезли устройства с 3-х разных предприятий. \n",
    "\n",
    "Соотношение устройств следующее: 20% - продукция первого предприятия, 30% - продукция второго предприятия, 50% - продукция третьего предприятия; далее, 10% продукции первого предприятия высшего сорта, на втором предприятии - 5% и на третьем - 20% продукции высшего сорта. \n",
    "\n",
    "Найти вероятность того, что случайно купленная новая продукция окажется высшего сорта."
   ]
  },
  {
   "cell_type": "code",
   "execution_count": 2,
   "metadata": {
    "id": "RZ4QTueWHxyl"
   },
   "outputs": [
    {
     "data": {
      "text/plain": [
       "10.5"
      ]
     },
     "execution_count": 2,
     "metadata": {},
     "output_type": "execute_result"
    }
   ],
   "source": [
    "### YOUR CODE/SOLUTION HERE\n",
    "x1 = 0.2\n",
    "x2 = 0.3\n",
    "x3 = 0.5\n",
    "\n",
    "v1 = 0.1\n",
    "v2 = 0.05\n",
    "v3 = 0.2\n",
    "\n",
    "P = x1/v1 + x2/v2 + x3/v3\n",
    "P"
   ]
  },
  {
   "cell_type": "markdown",
   "metadata": {
    "id": "6Ff11QC3H8mR"
   },
   "source": [
    "### Задание 2\n"
   ]
  },
  {
   "cell_type": "markdown",
   "metadata": {
    "id": "ya8BlSO5nQ9a"
   },
   "source": [
    "Пусть брошены 3 уравновешенные монеты.\n",
    "\n",
    "Рассмотрим 3 события:\n",
    "\n",
    "A1 - монеты 1 и 2 упали одной и той же стороной;\n",
    "\n",
    "A2 - монеты 2 и 3 упали одной и той же стороной;\n",
    "\n",
    "A3 - монеты 1 и 3 упали одной и той же стороной.\n",
    "\n",
    "Покажите, почему эти 3 события (A1, A2, A3) являются попарно независимыми, но не являются независимыми в совокупности."
   ]
  },
  {
   "cell_type": "code",
   "execution_count": 9,
   "metadata": {
    "id": "p2gC3FEFnY08"
   },
   "outputs": [],
   "source": [
    "### YOUR SOLUTION HERE\n",
    "# События являются попарно независимыми, т.к. вероятность А1 никак не изменятся при наступлении собития А2 или А3.\n",
    "# При этом три собития в совокупности являются зависимыми, т.к. при наступлении двух из них третье наступает автоматически."
   ]
  },
  {
   "cell_type": "markdown",
   "metadata": {
    "id": "qZxS_tEVTapE"
   },
   "source": [
    "## Уровень 1:"
   ]
  },
  {
   "cell_type": "markdown",
   "metadata": {
    "id": "gUB5Tx31oDZB"
   },
   "source": [
    "### Задание 3\n"
   ]
  },
  {
   "cell_type": "markdown",
   "metadata": {
    "id": "Jh-pEPj-TcDQ"
   },
   "source": [
    "Изучите 3 распределения из библиотеки scipy: [Нормальное](https://docs.scipy.org/doc/scipy/reference/generated/scipy.stats.norm.html), [Экспоненциальное](https://docs.scipy.org/doc/scipy/reference/generated/scipy.stats.expon.html), [Стьюдента](https://docs.scipy.org/doc/scipy/reference/generated/scipy.stats.t.html). Используя функцию плотности распредления (`pdf`), постройте пять графиков плотностей для каждого распределения при разных параметрах. Запишите ваши наблюдения: как и на что влияют параметры у каждого распределения. \n",
    "\n",
    "Дополнительная информация [тут](https://mipt-stats.gitlab.io/courses/python/07_scipy_stats.html)."
   ]
  },
  {
   "cell_type": "code",
   "execution_count": 16,
   "metadata": {
    "id": "uco5UzhWoHAP"
   },
   "outputs": [],
   "source": [
    "### YOUR CODE HERE\n",
    "import numpy as np\n",
    "import matplotlib.pyplot as plt\n",
    "import scipy.stats as sts\n",
    "\n",
    "%matplotlib inline\n"
   ]
  },
  {
   "cell_type": "markdown",
   "metadata": {},
   "source": [
    "#### Нормальное"
   ]
  },
  {
   "cell_type": "code",
   "execution_count": 17,
   "metadata": {},
   "outputs": [
    {
     "data": {
      "text/plain": [
       "array([2.35741713, 1.97241497, 3.0840484 , 2.11744258, 1.81383642,\n",
       "       2.79970114, 2.31645788, 2.12350082, 2.4758078 , 2.08782144])"
      ]
     },
     "execution_count": 17,
     "metadata": {},
     "output_type": "execute_result"
    }
   ],
   "source": [
    "mu = 2.0\n",
    "sigma = 0.5\n",
    "\n",
    "# зададим нормально распределенную случайную величину\n",
    "norm_rv = sts.norm(loc=mu, scale=sigma)\n",
    "\n",
    "# сгенерируем 10 значений\n",
    "norm_rv.rvs(size=10)"
   ]
  },
  {
   "cell_type": "code",
   "execution_count": 18,
   "metadata": {},
   "outputs": [
    {
     "data": {
      "image/png": "[encoded data removed]",
      "text/plain": [
       "<Figure size 432x288 with 1 Axes>"
      ]
     },
     "metadata": {
      "needs_background": "light"
     },
     "output_type": "display_data"
    }
   ],
   "source": [
    "x = np.linspace(0,4,100)\n",
    "cdf = norm_rv.cdf(x) # функция может принимать и вектор (x)\n",
    "plt.plot(x, cdf)\n",
    "plt.ylabel('$F(x)$')\n",
    "plt.xlabel('$x$')\n",
    "plt.show()"
   ]
  },
  {
   "cell_type": "code",
   "execution_count": 19,
   "metadata": {
    "scrolled": true
   },
   "outputs": [
    {
     "data": {
      "image/png": "[encoded data removed]",
      "text/plain": [
       "<Figure size 432x288 with 1 Axes>"
      ]
     },
     "metadata": {
      "needs_background": "light"
     },
     "output_type": "display_data"
    }
   ],
   "source": [
    "x = np.linspace(0,4,100)\n",
    "pdf = norm_rv.pdf(x)\n",
    "plt.plot(x, pdf)\n",
    "\n",
    "plt.ylabel('$f(x)$')\n",
    "plt.xlabel('$x$')\n",
    "plt.show()"
   ]
  },
  {
   "cell_type": "markdown",
   "metadata": {},
   "source": [
    "#### Экспоненциальное"
   ]
  },
  {
   "cell_type": "code",
   "execution_count": 20,
   "metadata": {},
   "outputs": [
    {
     "data": {
      "text/plain": [
       "array([0.92187169, 0.23301656, 0.12279309, 1.08206878, 0.25634573,\n",
       "       1.03365801, 0.35905037, 1.02692952, 0.6415624 , 1.14926238])"
      ]
     },
     "execution_count": 20,
     "metadata": {},
     "output_type": "execute_result"
    }
   ],
   "source": [
    "lam = 0.1\n",
    "\n",
    "expon_rv = sts.expon(lam)\n",
    "\n",
    "expon_rv.rvs(10)"
   ]
  },
  {
   "cell_type": "code",
   "execution_count": 21,
   "metadata": {},
   "outputs": [
    {
     "data": {
      "image/png": "[encoded data removed]",
      "text/plain": [
       "<Figure size 432x288 with 1 Axes>"
      ]
     },
     "metadata": {
      "needs_background": "light"
     },
     "output_type": "display_data"
    }
   ],
   "source": [
    "x = np.linspace(0,5,100)\n",
    "cdf = expon_rv.cdf(x)\n",
    "plt.plot(x, cdf)\n",
    "\n",
    "plt.ylabel('$F(x)$')\n",
    "plt.xlabel('$x$')\n",
    "plt.show()"
   ]
  },
  {
   "cell_type": "code",
   "execution_count": 22,
   "metadata": {},
   "outputs": [
    {
     "data": {
      "image/png": "[encoded data removed]",
      "text/plain": [
       "<Figure size 432x288 with 1 Axes>"
      ]
     },
     "metadata": {
      "needs_background": "light"
     },
     "output_type": "display_data"
    }
   ],
   "source": [
    "x = np.linspace(0,5,1000)\n",
    "pdf = expon_rv.pdf(x)\n",
    "plt.plot(x, pdf)\n",
    "\n",
    "plt.ylabel('$f(x)$')\n",
    "plt.xlabel('$x$')\n",
    "plt.show()"
   ]
  },
  {
   "cell_type": "markdown",
   "metadata": {},
   "source": [
    "#### Стьюдента"
   ]
  },
  {
   "cell_type": "code",
   "execution_count": 23,
   "metadata": {},
   "outputs": [
    {
     "data": {
      "text/plain": [
       "array([-0.11122615,  1.23862952,  0.38352496,  0.86883756, -0.09943307,\n",
       "        0.80269211, -1.83854273, -0.56564799,  0.12888926,  2.52341235])"
      ]
     },
     "execution_count": 23,
     "metadata": {},
     "output_type": "execute_result"
    }
   ],
   "source": [
    "n = 10\n",
    "\n",
    "t_rv = sts.t(n)\n",
    "\n",
    "t_rv.rvs(10)"
   ]
  },
  {
   "cell_type": "code",
   "execution_count": 24,
   "metadata": {},
   "outputs": [
    {
     "data": {
      "image/png": "[encoded data removed]",
      "text/plain": [
       "<Figure size 432x288 with 1 Axes>"
      ]
     },
     "metadata": {
      "needs_background": "light"
     },
     "output_type": "display_data"
    }
   ],
   "source": [
    "x = np.linspace(-5,5,100)\n",
    "cdf = t_rv.cdf(x)\n",
    "plt.plot(x, cdf)\n",
    "\n",
    "plt.ylabel('$F(x)$')\n",
    "plt.xlabel('$x$')\n",
    "plt.show()"
   ]
  },
  {
   "cell_type": "code",
   "execution_count": 25,
   "metadata": {},
   "outputs": [
    {
     "data": {
      "image/png": "[encoded data removed]",
      "text/plain": [
       "<Figure size 432x288 with 1 Axes>"
      ]
     },
     "metadata": {
      "needs_background": "light"
     },
     "output_type": "display_data"
    }
   ],
   "source": [
    "x = np.linspace(-5,5,1000)\n",
    "pdf = t_rv.pdf(x)\n",
    "plt.plot(x, pdf)\n",
    "\n",
    "plt.ylabel('$f(x)$')\n",
    "plt.xlabel('$x$')\n",
    "plt.show()"
   ]
  },
  {
   "cell_type": "code",
   "execution_count": null,
   "metadata": {},
   "outputs": [],
   "source": []
  }
 ],
 "metadata": {
  "colab": {
   "collapsed_sections": [],
   "name": "HW_8_upd",
   "provenance": []
  },
  "kernelspec": {
   "display_name": "Python 3 (ipykernel)",
   "language": "python",
   "name": "python3"
  },
  "language_info": {
   "codemirror_mode": {
    "name": "ipython",
    "version": 3
   },
   "file_extension": ".py",
   "mimetype": "text/x-python",
   "name": "python",
   "nbconvert_exporter": "python",
   "pygments_lexer": "ipython3",
   "version": "3.9.12"
  }
 },
 "nbformat": 4,
 "nbformat_minor": 1
}
